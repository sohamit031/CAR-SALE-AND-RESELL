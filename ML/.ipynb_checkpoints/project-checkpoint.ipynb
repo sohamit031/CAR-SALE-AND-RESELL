{
 "cells": [
  {
   "cell_type": "code",
   "execution_count": 1,
   "id": "f19e2d91-8114-4d20-8f3a-82dbe7a8eeae",
   "metadata": {},
   "outputs": [],
   "source": [
    "import pandas as pd\n",
    "import numpy as np\n",
    "import matplotlib.pyplot as plt"
   ]
  },
  {
   "cell_type": "code",
   "execution_count": 2,
   "id": "19eb4d4f-6ca4-4d1f-9f4c-1e265e237002",
   "metadata": {},
   "outputs": [
    {
     "data": {
      "text/html": [
       "<div>\n",
       "<style scoped>\n",
       "    .dataframe tbody tr th:only-of-type {\n",
       "        vertical-align: middle;\n",
       "    }\n",
       "\n",
       "    .dataframe tbody tr th {\n",
       "        vertical-align: top;\n",
       "    }\n",
       "\n",
       "    .dataframe thead th {\n",
       "        text-align: right;\n",
       "    }\n",
       "</style>\n",
       "<table border=\"1\" class=\"dataframe\">\n",
       "  <thead>\n",
       "    <tr style=\"text-align: right;\">\n",
       "      <th></th>\n",
       "      <th>Unnamed: 0</th>\n",
       "      <th>car_name</th>\n",
       "      <th>brand</th>\n",
       "      <th>model</th>\n",
       "      <th>vehicle_age</th>\n",
       "      <th>km_driven</th>\n",
       "      <th>seller_type</th>\n",
       "      <th>fuel_type</th>\n",
       "      <th>transmission_type</th>\n",
       "      <th>mileage</th>\n",
       "      <th>engine</th>\n",
       "      <th>max_power</th>\n",
       "      <th>seats</th>\n",
       "      <th>selling_price</th>\n",
       "    </tr>\n",
       "  </thead>\n",
       "  <tbody>\n",
       "    <tr>\n",
       "      <th>0</th>\n",
       "      <td>0</td>\n",
       "      <td>Maruti Alto</td>\n",
       "      <td>Maruti</td>\n",
       "      <td>Alto</td>\n",
       "      <td>9</td>\n",
       "      <td>120000</td>\n",
       "      <td>Individual</td>\n",
       "      <td>Petrol</td>\n",
       "      <td>Manual</td>\n",
       "      <td>19.70</td>\n",
       "      <td>796</td>\n",
       "      <td>46.30</td>\n",
       "      <td>5</td>\n",
       "      <td>120000</td>\n",
       "    </tr>\n",
       "    <tr>\n",
       "      <th>1</th>\n",
       "      <td>1</td>\n",
       "      <td>Hyundai Grand</td>\n",
       "      <td>Hyundai</td>\n",
       "      <td>Grand</td>\n",
       "      <td>5</td>\n",
       "      <td>20000</td>\n",
       "      <td>Individual</td>\n",
       "      <td>Petrol</td>\n",
       "      <td>Manual</td>\n",
       "      <td>18.90</td>\n",
       "      <td>1197</td>\n",
       "      <td>82.00</td>\n",
       "      <td>5</td>\n",
       "      <td>550000</td>\n",
       "    </tr>\n",
       "    <tr>\n",
       "      <th>2</th>\n",
       "      <td>2</td>\n",
       "      <td>Hyundai i20</td>\n",
       "      <td>Hyundai</td>\n",
       "      <td>i20</td>\n",
       "      <td>11</td>\n",
       "      <td>60000</td>\n",
       "      <td>Individual</td>\n",
       "      <td>Petrol</td>\n",
       "      <td>Manual</td>\n",
       "      <td>17.00</td>\n",
       "      <td>1197</td>\n",
       "      <td>80.00</td>\n",
       "      <td>5</td>\n",
       "      <td>215000</td>\n",
       "    </tr>\n",
       "    <tr>\n",
       "      <th>3</th>\n",
       "      <td>3</td>\n",
       "      <td>Maruti Alto</td>\n",
       "      <td>Maruti</td>\n",
       "      <td>Alto</td>\n",
       "      <td>9</td>\n",
       "      <td>37000</td>\n",
       "      <td>Individual</td>\n",
       "      <td>Petrol</td>\n",
       "      <td>Manual</td>\n",
       "      <td>20.92</td>\n",
       "      <td>998</td>\n",
       "      <td>67.10</td>\n",
       "      <td>5</td>\n",
       "      <td>226000</td>\n",
       "    </tr>\n",
       "    <tr>\n",
       "      <th>4</th>\n",
       "      <td>4</td>\n",
       "      <td>Ford Ecosport</td>\n",
       "      <td>Ford</td>\n",
       "      <td>Ecosport</td>\n",
       "      <td>6</td>\n",
       "      <td>30000</td>\n",
       "      <td>Dealer</td>\n",
       "      <td>Diesel</td>\n",
       "      <td>Manual</td>\n",
       "      <td>22.77</td>\n",
       "      <td>1498</td>\n",
       "      <td>98.59</td>\n",
       "      <td>5</td>\n",
       "      <td>570000</td>\n",
       "    </tr>\n",
       "    <tr>\n",
       "      <th>...</th>\n",
       "      <td>...</td>\n",
       "      <td>...</td>\n",
       "      <td>...</td>\n",
       "      <td>...</td>\n",
       "      <td>...</td>\n",
       "      <td>...</td>\n",
       "      <td>...</td>\n",
       "      <td>...</td>\n",
       "      <td>...</td>\n",
       "      <td>...</td>\n",
       "      <td>...</td>\n",
       "      <td>...</td>\n",
       "      <td>...</td>\n",
       "      <td>...</td>\n",
       "    </tr>\n",
       "    <tr>\n",
       "      <th>15406</th>\n",
       "      <td>19537</td>\n",
       "      <td>Hyundai i10</td>\n",
       "      <td>Hyundai</td>\n",
       "      <td>i10</td>\n",
       "      <td>9</td>\n",
       "      <td>10723</td>\n",
       "      <td>Dealer</td>\n",
       "      <td>Petrol</td>\n",
       "      <td>Manual</td>\n",
       "      <td>19.81</td>\n",
       "      <td>1086</td>\n",
       "      <td>68.05</td>\n",
       "      <td>5</td>\n",
       "      <td>250000</td>\n",
       "    </tr>\n",
       "    <tr>\n",
       "      <th>15407</th>\n",
       "      <td>19540</td>\n",
       "      <td>Maruti Ertiga</td>\n",
       "      <td>Maruti</td>\n",
       "      <td>Ertiga</td>\n",
       "      <td>2</td>\n",
       "      <td>18000</td>\n",
       "      <td>Dealer</td>\n",
       "      <td>Petrol</td>\n",
       "      <td>Manual</td>\n",
       "      <td>17.50</td>\n",
       "      <td>1373</td>\n",
       "      <td>91.10</td>\n",
       "      <td>7</td>\n",
       "      <td>925000</td>\n",
       "    </tr>\n",
       "    <tr>\n",
       "      <th>15408</th>\n",
       "      <td>19541</td>\n",
       "      <td>Skoda Rapid</td>\n",
       "      <td>Skoda</td>\n",
       "      <td>Rapid</td>\n",
       "      <td>6</td>\n",
       "      <td>67000</td>\n",
       "      <td>Dealer</td>\n",
       "      <td>Diesel</td>\n",
       "      <td>Manual</td>\n",
       "      <td>21.14</td>\n",
       "      <td>1498</td>\n",
       "      <td>103.52</td>\n",
       "      <td>5</td>\n",
       "      <td>425000</td>\n",
       "    </tr>\n",
       "    <tr>\n",
       "      <th>15409</th>\n",
       "      <td>19542</td>\n",
       "      <td>Mahindra XUV500</td>\n",
       "      <td>Mahindra</td>\n",
       "      <td>XUV500</td>\n",
       "      <td>5</td>\n",
       "      <td>3800000</td>\n",
       "      <td>Dealer</td>\n",
       "      <td>Diesel</td>\n",
       "      <td>Manual</td>\n",
       "      <td>16.00</td>\n",
       "      <td>2179</td>\n",
       "      <td>140.00</td>\n",
       "      <td>7</td>\n",
       "      <td>1225000</td>\n",
       "    </tr>\n",
       "    <tr>\n",
       "      <th>15410</th>\n",
       "      <td>19543</td>\n",
       "      <td>Honda City</td>\n",
       "      <td>Honda</td>\n",
       "      <td>City</td>\n",
       "      <td>2</td>\n",
       "      <td>13000</td>\n",
       "      <td>Dealer</td>\n",
       "      <td>Petrol</td>\n",
       "      <td>Automatic</td>\n",
       "      <td>18.00</td>\n",
       "      <td>1497</td>\n",
       "      <td>117.60</td>\n",
       "      <td>5</td>\n",
       "      <td>1200000</td>\n",
       "    </tr>\n",
       "  </tbody>\n",
       "</table>\n",
       "<p>15411 rows × 14 columns</p>\n",
       "</div>"
      ],
      "text/plain": [
       "       Unnamed: 0         car_name     brand     model  vehicle_age  \\\n",
       "0               0      Maruti Alto    Maruti      Alto            9   \n",
       "1               1    Hyundai Grand   Hyundai     Grand            5   \n",
       "2               2      Hyundai i20   Hyundai       i20           11   \n",
       "3               3      Maruti Alto    Maruti      Alto            9   \n",
       "4               4    Ford Ecosport      Ford  Ecosport            6   \n",
       "...           ...              ...       ...       ...          ...   \n",
       "15406       19537      Hyundai i10   Hyundai       i10            9   \n",
       "15407       19540    Maruti Ertiga    Maruti    Ertiga            2   \n",
       "15408       19541      Skoda Rapid     Skoda     Rapid            6   \n",
       "15409       19542  Mahindra XUV500  Mahindra    XUV500            5   \n",
       "15410       19543       Honda City     Honda      City            2   \n",
       "\n",
       "       km_driven seller_type fuel_type transmission_type  mileage  engine  \\\n",
       "0         120000  Individual    Petrol            Manual    19.70     796   \n",
       "1          20000  Individual    Petrol            Manual    18.90    1197   \n",
       "2          60000  Individual    Petrol            Manual    17.00    1197   \n",
       "3          37000  Individual    Petrol            Manual    20.92     998   \n",
       "4          30000      Dealer    Diesel            Manual    22.77    1498   \n",
       "...          ...         ...       ...               ...      ...     ...   \n",
       "15406      10723      Dealer    Petrol            Manual    19.81    1086   \n",
       "15407      18000      Dealer    Petrol            Manual    17.50    1373   \n",
       "15408      67000      Dealer    Diesel            Manual    21.14    1498   \n",
       "15409    3800000      Dealer    Diesel            Manual    16.00    2179   \n",
       "15410      13000      Dealer    Petrol         Automatic    18.00    1497   \n",
       "\n",
       "       max_power  seats  selling_price  \n",
       "0          46.30      5         120000  \n",
       "1          82.00      5         550000  \n",
       "2          80.00      5         215000  \n",
       "3          67.10      5         226000  \n",
       "4          98.59      5         570000  \n",
       "...          ...    ...            ...  \n",
       "15406      68.05      5         250000  \n",
       "15407      91.10      7         925000  \n",
       "15408     103.52      5         425000  \n",
       "15409     140.00      7        1225000  \n",
       "15410     117.60      5        1200000  \n",
       "\n",
       "[15411 rows x 14 columns]"
      ]
     },
     "execution_count": 2,
     "metadata": {},
     "output_type": "execute_result"
    }
   ],
   "source": [
    "df = pd.read_csv(\"data/cardekho_dataset_copy.csv\")\n",
    "df"
   ]
  },
  {
   "cell_type": "code",
   "execution_count": 3,
   "id": "13527c31-fd70-4823-88c9-6bbcdca86efe",
   "metadata": {},
   "outputs": [
    {
     "name": "stdout",
     "output_type": "stream",
     "text": [
      "<class 'pandas.core.frame.DataFrame'>\n",
      "RangeIndex: 15411 entries, 0 to 15410\n",
      "Data columns (total 14 columns):\n",
      " #   Column             Non-Null Count  Dtype  \n",
      "---  ------             --------------  -----  \n",
      " 0   Unnamed: 0         15411 non-null  int64  \n",
      " 1   car_name           15411 non-null  object \n",
      " 2   brand              15411 non-null  object \n",
      " 3   model              15411 non-null  object \n",
      " 4   vehicle_age        15411 non-null  int64  \n",
      " 5   km_driven          15411 non-null  int64  \n",
      " 6   seller_type        15411 non-null  object \n",
      " 7   fuel_type          15411 non-null  object \n",
      " 8   transmission_type  15411 non-null  object \n",
      " 9   mileage            15411 non-null  float64\n",
      " 10  engine             15411 non-null  int64  \n",
      " 11  max_power          15411 non-null  float64\n",
      " 12  seats              15411 non-null  int64  \n",
      " 13  selling_price      15411 non-null  int64  \n",
      "dtypes: float64(2), int64(6), object(6)\n",
      "memory usage: 1.6+ MB\n"
     ]
    }
   ],
   "source": [
    "df.info()"
   ]
  },
  {
   "cell_type": "code",
   "execution_count": 4,
   "id": "1c57df6e-55eb-4215-b852-a79c482a3d24",
   "metadata": {},
   "outputs": [
    {
     "data": {
      "text/plain": [
       "Unnamed: 0           0\n",
       "car_name             0\n",
       "brand                0\n",
       "model                0\n",
       "vehicle_age          0\n",
       "km_driven            0\n",
       "seller_type          0\n",
       "fuel_type            0\n",
       "transmission_type    0\n",
       "mileage              0\n",
       "engine               0\n",
       "max_power            0\n",
       "seats                0\n",
       "selling_price        0\n",
       "dtype: int64"
      ]
     },
     "execution_count": 4,
     "metadata": {},
     "output_type": "execute_result"
    }
   ],
   "source": [
    "df.isna().sum()"
   ]
  },
  {
   "cell_type": "code",
   "execution_count": 5,
   "id": "3f355162-8187-4b6f-845e-e4e919df9c3f",
   "metadata": {},
   "outputs": [],
   "source": [
    "df.drop(columns=[\"Unnamed: 0\",\"car_name\"], inplace=True)"
   ]
  },
  {
   "cell_type": "code",
   "execution_count": 6,
   "id": "7a96a665-1746-4e7a-8184-077b1271173d",
   "metadata": {},
   "outputs": [],
   "source": [
    "from sklearn.model_selection import train_test_split,RandomizedSearchCV\n",
    "from sklearn.ensemble import RandomForestRegressor\n",
    "x = df.drop(\"selling_price\",axis=1)\n",
    "y = df[\"selling_price\"]\n",
    "x_train,x_test,y_train,y_test = train_test_split(x,\n",
    "                                                 y,\n",
    "                                                test_size=0.2,\n",
    "                                                random_state=42)"
   ]
  },
  {
   "cell_type": "code",
   "execution_count": 7,
   "id": "d3b6d9cd-e16d-491e-8a29-97b1e5a0f0a7",
   "metadata": {},
   "outputs": [
    {
     "data": {
      "text/plain": [
       "array([[   0.  ,    0.  ,    0.  , ...,   19.7 ,  796.  ,   46.3 ],\n",
       "       [   0.  ,    0.  ,    0.  , ...,   18.9 , 1197.  ,   82.  ],\n",
       "       [   0.  ,    0.  ,    0.  , ...,   17.  , 1197.  ,   80.  ],\n",
       "       ...,\n",
       "       [   0.  ,    0.  ,    0.  , ...,   21.14, 1498.  ,  103.52],\n",
       "       [   0.  ,    0.  ,    0.  , ...,   16.  , 2179.  ,  140.  ],\n",
       "       [   0.  ,    0.  ,    0.  , ...,   18.  , 1497.  ,  117.6 ]])"
      ]
     },
     "execution_count": 7,
     "metadata": {},
     "output_type": "execute_result"
    }
   ],
   "source": [
    "from sklearn.preprocessing import OneHotEncoder\n",
    "from sklearn.compose import ColumnTransformer\n",
    "categorical_features = ['brand','model','seller_type','fuel_type','transmission_type','seats']\n",
    "one_hot = OneHotEncoder(sparse_output=False, handle_unknown=\"ignore\")\n",
    "transformer = ColumnTransformer([(\"one_hot\",\n",
    "                               one_hot,\n",
    "                               categorical_features)],\n",
    "                               remainder=\"passthrough\")\n",
    "\n",
    "transformed_x = transformer.fit_transform(x)\n",
    "transformed_x"
   ]
  },
  {
   "cell_type": "code",
   "execution_count": 8,
   "id": "c7a841ec-290a-4716-b8bc-1b1dbc0bc070",
   "metadata": {},
   "outputs": [],
   "source": [
    "for i, row in enumerate(transformed_x):\n",
    "    try:\n",
    "        float_values = np.array(row, dtype=np.float64)  # Try converting to float\n",
    "    except ValueError:\n",
    "        print(f\"Row {i} contains non-numeric values:\", row)"
   ]
  },
  {
   "cell_type": "code",
   "execution_count": 9,
   "id": "d4c35786-7507-48de-a31f-a94bec27d52f",
   "metadata": {},
   "outputs": [
    {
     "data": {
      "text/plain": [
       "array([0.00e+00, 0.00e+00, 0.00e+00, 0.00e+00, 0.00e+00, 0.00e+00,\n",
       "       0.00e+00, 0.00e+00, 0.00e+00, 0.00e+00, 0.00e+00, 0.00e+00,\n",
       "       0.00e+00, 0.00e+00, 0.00e+00, 0.00e+00, 0.00e+00, 0.00e+00,\n",
       "       1.00e+00, 0.00e+00, 0.00e+00, 0.00e+00, 0.00e+00, 0.00e+00,\n",
       "       0.00e+00, 0.00e+00, 0.00e+00, 0.00e+00, 0.00e+00, 0.00e+00,\n",
       "       0.00e+00, 0.00e+00, 0.00e+00, 0.00e+00, 0.00e+00, 0.00e+00,\n",
       "       0.00e+00, 0.00e+00, 0.00e+00, 1.00e+00, 0.00e+00, 0.00e+00,\n",
       "       0.00e+00, 0.00e+00, 0.00e+00, 0.00e+00, 0.00e+00, 0.00e+00,\n",
       "       0.00e+00, 0.00e+00, 0.00e+00, 0.00e+00, 0.00e+00, 0.00e+00,\n",
       "       0.00e+00, 0.00e+00, 0.00e+00, 0.00e+00, 0.00e+00, 0.00e+00,\n",
       "       0.00e+00, 0.00e+00, 0.00e+00, 0.00e+00, 0.00e+00, 0.00e+00,\n",
       "       0.00e+00, 0.00e+00, 0.00e+00, 0.00e+00, 0.00e+00, 0.00e+00,\n",
       "       0.00e+00, 0.00e+00, 0.00e+00, 0.00e+00, 0.00e+00, 0.00e+00,\n",
       "       0.00e+00, 0.00e+00, 0.00e+00, 0.00e+00, 0.00e+00, 0.00e+00,\n",
       "       0.00e+00, 0.00e+00, 0.00e+00, 0.00e+00, 0.00e+00, 0.00e+00,\n",
       "       0.00e+00, 0.00e+00, 0.00e+00, 0.00e+00, 0.00e+00, 0.00e+00,\n",
       "       0.00e+00, 0.00e+00, 0.00e+00, 0.00e+00, 0.00e+00, 0.00e+00,\n",
       "       0.00e+00, 0.00e+00, 0.00e+00, 0.00e+00, 0.00e+00, 0.00e+00,\n",
       "       0.00e+00, 0.00e+00, 0.00e+00, 0.00e+00, 0.00e+00, 0.00e+00,\n",
       "       0.00e+00, 0.00e+00, 0.00e+00, 0.00e+00, 0.00e+00, 0.00e+00,\n",
       "       0.00e+00, 0.00e+00, 0.00e+00, 0.00e+00, 0.00e+00, 0.00e+00,\n",
       "       0.00e+00, 0.00e+00, 0.00e+00, 0.00e+00, 0.00e+00, 0.00e+00,\n",
       "       0.00e+00, 0.00e+00, 0.00e+00, 0.00e+00, 0.00e+00, 0.00e+00,\n",
       "       0.00e+00, 0.00e+00, 0.00e+00, 0.00e+00, 0.00e+00, 0.00e+00,\n",
       "       0.00e+00, 0.00e+00, 0.00e+00, 0.00e+00, 0.00e+00, 0.00e+00,\n",
       "       0.00e+00, 0.00e+00, 0.00e+00, 1.00e+00, 0.00e+00, 0.00e+00,\n",
       "       0.00e+00, 0.00e+00, 0.00e+00, 1.00e+00, 0.00e+00, 1.00e+00,\n",
       "       0.00e+00, 0.00e+00, 0.00e+00, 1.00e+00, 0.00e+00, 0.00e+00,\n",
       "       0.00e+00, 0.00e+00, 9.00e+00, 1.20e+05, 1.97e+01, 7.96e+02,\n",
       "       4.63e+01])"
      ]
     },
     "execution_count": 9,
     "metadata": {},
     "output_type": "execute_result"
    }
   ],
   "source": [
    "transformed_x[0]"
   ]
  },
  {
   "cell_type": "code",
   "execution_count": 10,
   "id": "fefbc879-5d50-4edb-b9e1-450b25717d23",
   "metadata": {},
   "outputs": [
    {
     "data": {
      "text/plain": [
       "0.9361682431891156"
      ]
     },
     "execution_count": 10,
     "metadata": {},
     "output_type": "execute_result"
    }
   ],
   "source": [
    "x_train,x_test,y_train,y_test = train_test_split(transformed_x,\n",
    "                                                 y,\n",
    "                                                test_size=0.2,\n",
    "                                                random_state=42)\n",
    "\n",
    "\n",
    "model = RandomForestRegressor(n_jobs=-1)\n",
    "model.fit(x_train,y_train)\n",
    "model.score(x_test,y_test)"
   ]
  },
  {
   "cell_type": "code",
   "execution_count": 14,
   "id": "4706ed97-9027-446f-942f-3bc0cd852729",
   "metadata": {},
   "outputs": [
    {
     "data": {
      "text/plain": [
       "0.9370656099351664"
      ]
     },
     "execution_count": 14,
     "metadata": {},
     "output_type": "execute_result"
    }
   ],
   "source": [
    "model = RandomForestRegressor(n_estimators=1200,\n",
    "                              min_samples_split=4,\n",
    "                              min_samples_leaf=1,\n",
    "                              max_features=None,\n",
    "                              max_depth=30)\n",
    "model.fit(x_train,y_train)\n",
    "model.score(x_test,y_test)"
   ]
  },
  {
   "cell_type": "code",
   "execution_count": 15,
   "id": "74706a75-5346-44ef-a9ff-eb515ca08277",
   "metadata": {},
   "outputs": [
    {
     "data": {
      "text/plain": [
       "0.9224041494068193"
      ]
     },
     "execution_count": 15,
     "metadata": {},
     "output_type": "execute_result"
    }
   ],
   "source": [
    "from sklearn.datasets import make_regression\n",
    "from sklearn.ensemble import GradientBoostingRegressor\n",
    "\n",
    "reg = GradientBoostingRegressor()\n",
    "reg.fit(x_train, y_train)\n",
    "reg.score(x_test, y_test)"
   ]
  },
  {
   "cell_type": "code",
   "execution_count": 16,
   "id": "7d091904-fc2a-46f4-8b0f-00fc2a4c2f91",
   "metadata": {},
   "outputs": [
    {
     "name": "stdout",
     "output_type": "stream",
     "text": [
      "R² Score: 0.9371\n",
      "Mean Absolute Error (MAE): 98718.7842\n",
      "Mean Squared Error (MSE): 47375862835.9741\n",
      "Root Mean Squared Error (RMSE): 217659.9707\n"
     ]
    }
   ],
   "source": [
    "from sklearn.metrics import r2_score, mean_absolute_error, mean_squared_error\n",
    "import matplotlib.pyplot as plt\n",
    "import seaborn as sns\n",
    "\n",
    "# Predictions\n",
    "y_pred = model.predict(x_test)\n",
    "\n",
    "# Evaluation Metrics\n",
    "r2 = r2_score(y_test, y_pred)\n",
    "mae = mean_absolute_error(y_test, y_pred)\n",
    "mse = mean_squared_error(y_test, y_pred)\n",
    "rmse = np.sqrt(mse)\n",
    "\n",
    "print(f\"R² Score: {r2:.4f}\")\n",
    "print(f\"Mean Absolute Error (MAE): {mae:.4f}\")\n",
    "print(f\"Mean Squared Error (MSE): {mse:.4f}\")\n",
    "print(f\"Root Mean Squared Error (RMSE): {rmse:.4f}\")"
   ]
  },
  {
   "cell_type": "code",
   "execution_count": 23,
   "id": "68940647-deb5-45b3-8658-52de2a67aff9",
   "metadata": {},
   "outputs": [
    {
     "data": {
      "image/png": "[encoded data removed]",
      "text/plain": [
       "<Figure size 1000x500 with 1 Axes>"
      ]
     },
     "metadata": {},
     "output_type": "display_data"
    }
   ],
   "source": [
    "import matplotlib.pyplot as plt\n",
    "import seaborn as sns\n",
    "import pandas as pd\n",
    "\n",
    "# Get feature importance\n",
    "feature_importances = model.feature_importances_\n",
    "feature_names = transformer.get_feature_names_out()\n",
    "\n",
    "# Create a DataFrame\n",
    "importance_df = pd.DataFrame({'Feature': feature_names, 'Importance': feature_importances})\n",
    "\n",
    "# Sort by importance\n",
    "importance_df = importance_df.sort_values(by=\"Importance\", ascending=False)\n",
    "\n",
    "# Select top 4 most important features\n",
    "top_n = 4\n",
    "importance_df_top = importance_df.head(top_n)\n",
    "\n",
    "# Plot feature importance\n",
    "plt.figure(figsize=(10, 5))\n",
    "sns.barplot(\n",
    "    x=importance_df_top[\"Importance\"], \n",
    "    y=importance_df_top[\"Feature\"], \n",
    "    palette=\"viridis\", \n",
    "    hue=importance_df_top[\"Feature\"], \n",
    "    dodge=False\n",
    ")\n",
    "plt.xlabel(\"Feature Importance Score\")\n",
    "plt.ylabel(\"Features\")\n",
    "plt.title(f\"Top {top_n} Feature Importance for Car Price Prediction Model\")\n",
    "plt.legend([], [], frameon=False)  # Remove legend\n",
    "plt.show()\n"
   ]
  },
  {
   "cell_type": "code",
   "execution_count": 2,
   "id": "ed9b9ce9-8865-4db0-a31d-ec014e64c2ea",
   "metadata": {},
   "outputs": [],
   "source": [
    "import pandas as pd\n",
    "import numpy as np\n",
    "import matplotlib.pyplot as plt\n",
    "import seaborn as sns\n",
    "from sklearn.model_selection import train_test_split, RandomizedSearchCV\n",
    "from sklearn.ensemble import RandomForestRegressor\n",
    "from sklearn.preprocessing import OneHotEncoder, StandardScaler\n",
    "from sklearn.compose import ColumnTransformer\n",
    "\n",
    "# Load dataset\n",
    "df = pd.read_csv(\"data/cardekho_dataset_copy.csv\")\n",
    "df.drop(columns=[\"Unnamed: 0\", \"car_name\"], inplace=True)\n",
    "\n",
    "# Feature Engineering: Add interaction terms\n",
    "df[\"age_km_interaction\"] = df[\"vehicle_age\"] * df[\"km_driven\"]\n",
    "df[\"power_to_age_ratio\"] = df[\"max_power\"] / (df[\"vehicle_age\"] + 1)\n",
    "df[\"km_per_year\"] = df[\"km_driven\"] / (df[\"vehicle_age\"] + 1)\n",
    "\n",
    "# Define features and target\n",
    "x = df.drop(\"selling_price\", axis=1)\n",
    "y = df[\"selling_price\"]\n",
    "\n",
    "# Train-test split\n",
    "x_train, x_test, y_train, y_test = train_test_split(x, y, test_size=0.2, random_state=42)\n",
    "\n",
    "# One-Hot Encoding for categorical features\n",
    "categorical_features = ['brand', 'model', 'seller_type', 'fuel_type', 'transmission_type', 'seats']\n",
    "one_hot = OneHotEncoder(sparse_output=False, handle_unknown=\"ignore\")\n",
    "\n",
    "# Scaling numerical features\n",
    "numeric_features = [\"vehicle_age\", \"km_driven\", \"mileage\", \"max_power\", \"age_km_interaction\", \"power_to_age_ratio\", \"km_per_year\"]\n",
    "scaler = StandardScaler()\n",
    "\n",
    "# Column Transformer\n",
    "transformer = ColumnTransformer([\n",
    "    (\"one_hot\", one_hot, categorical_features),\n",
    "    (\"scaler\", scaler, numeric_features)\n",
    "], remainder=\"passthrough\")\n",
    "\n",
    "# Apply transformations\n",
    "x_train_transformed = transformer.fit_transform(x_train)\n",
    "x_test_transformed = transformer.transform(x_test)"
   ]
  },
  {
   "cell_type": "code",
   "execution_count": 4,
   "id": "668f75d0-7684-4c02-b0c7-3ddd6165325b",
   "metadata": {},
   "outputs": [
    {
     "name": "stdout",
     "output_type": "stream",
     "text": [
      "Mean Absolute Error (MAE): 101497.6556091132\n",
      "Mean Squared Error (MSE): 52453315433.83989\n",
      "Root Mean Squared Error (RMSE): 229026.8880150099\n",
      "R-Squared (R2 Score): 0.9303206904086107\n"
     ]
    }
   ],
   "source": [
    "from sklearn.ensemble import RandomForestRegressor\n",
    "from sklearn.metrics import mean_absolute_error, mean_squared_error, r2_score\n",
    "\n",
    "# Train the model\n",
    "model = RandomForestRegressor(n_estimators=100, random_state=42, n_jobs=-1)\n",
    "model.fit(x_train_transformed, y_train)\n",
    "model.score(x_train_transformed, y_train)\n",
    "# Predictions\n",
    "y_pred = model.predict(x_test_transformed)\n",
    "\n",
    "# Evaluate the model\n",
    "mae = mean_absolute_error(y_test, y_pred)\n",
    "mse = mean_squared_error(y_test, y_pred)\n",
    "rmse = np.sqrt(mse)\n",
    "r2 = r2_score(y_test, y_pred)\n",
    "\n",
    "# Print Evaluation Metrics\n",
    "print(f\"Mean Absolute Error (MAE): {mae}\")\n",
    "print(f\"Mean Squared Error (MSE): {mse}\")\n",
    "print(f\"Root Mean Squared Error (RMSE): {rmse}\")\n",
    "print(f\"R-Squared (R2 Score): {r2}\")"
   ]
  },
  {
   "cell_type": "code",
   "execution_count": 5,
   "id": "e208f3e6-2bcc-4fdb-a6fd-4a4889291d20",
   "metadata": {},
   "outputs": [
    {
     "data": {
      "text/plain": [
       "0.9700445546781309"
      ]
     },
     "execution_count": 5,
     "metadata": {},
     "output_type": "execute_result"
    }
   ],
   "source": [
    "model.score(x_train_transformed, y_train)"
   ]
  },
  {
   "cell_type": "code",
   "execution_count": 9,
   "id": "55a11965-eb62-4050-a5d8-a42aae5f09fa",
   "metadata": {},
   "outputs": [
    {
     "name": "stdout",
     "output_type": "stream",
     "text": [
      "Predicted Car Price: ₹975,825.00\n"
     ]
    }
   ],
   "source": [
    "import pandas as pd\n",
    "import numpy as np\n",
    "\n",
    "# Define function to preprocess input data\n",
    "def preprocess_input(input_data, transformer):\n",
    "    # Convert dictionary to DataFrame\n",
    "    input_df = pd.DataFrame([input_data])\n",
    "    \n",
    "    # Feature Engineering: Add interaction terms\n",
    "    input_df[\"age_km_interaction\"] = input_df[\"vehicle_age\"] * input_df[\"km_driven\"]\n",
    "    input_df[\"power_to_age_ratio\"] = input_df[\"max_power\"] / (input_df[\"vehicle_age\"] + 1)\n",
    "    input_df[\"km_per_year\"] = input_df[\"km_driven\"] / (input_df[\"vehicle_age\"] + 1)\n",
    "\n",
    "    # Drop unnecessary columns (if present)\n",
    "    if \"car_name\" in input_df.columns:\n",
    "        input_df.drop(columns=[\"car_name\"], inplace=True)\n",
    "\n",
    "    # Apply transformations (One-Hot Encoding + Scaling)\n",
    "    input_transformed = transformer.transform(input_df)\n",
    "    \n",
    "    return input_transformed\n",
    "\n",
    "# Example Input Data\n",
    "input_data = {\n",
    "    \"brand\": \"Mahindra\",\n",
    "    \"model\": \"Scorpio\",\n",
    "    \"vehicle_age\": 0,\n",
    "    \"fuel_type\": \"Diesel\",\n",
    "    \"transmission_type\": \"Manual\",\n",
    "    \"max_power\": 120, \n",
    "    \"seats\": 9,\n",
    "    \"engine\": \"2197\",\n",
    "    \"mileage\": \"15\",\n",
    "    \"km_driven\": 140000,\n",
    "    \"seller_type\": \"Individual\",\n",
    "}\n",
    "\n",
    "\n",
    "# Preprocess the input\n",
    "input_transformed = preprocess_input(input_data, transformer)\n",
    "\n",
    "# Make Prediction\n",
    "predicted_price = model.predict(input_transformed)\n",
    "\n",
    "# Output Result\n",
    "print(f\"Predicted Car Price: ₹{predicted_price[0]:,.2f}\")\n"
   ]
  },
  {
   "cell_type": "code",
   "execution_count": 14,
   "id": "56d0165a-e5e7-4d2b-a269-53a53c4a5459",
   "metadata": {},
   "outputs": [
    {
     "name": "stderr",
     "output_type": "stream",
     "text": [
      "C:\\Users\\jaywa\\AppData\\Local\\Temp\\ipykernel_9124\\395392301.py:23: FutureWarning: \n",
      "\n",
      "Passing `palette` without assigning `hue` is deprecated and will be removed in v0.14.0. Assign the `y` variable to `hue` and set `legend=False` for the same effect.\n",
      "\n",
      "  sns.barplot(y=importance_df[\"Feature\"], x=importance_df[\"Importance\"], palette=\"magma\")\n"
     ]
    },
    {
     "data": {
      "image/png": "[encoded data removed]",
      "text/plain": [
       "<Figure size 1000x500 with 1 Axes>"
      ]
     },
     "metadata": {},
     "output_type": "display_data"
    }
   ],
   "source": [
    "import pandas as pd\n",
    "import numpy as np\n",
    "import matplotlib.pyplot as plt\n",
    "import seaborn as sns\n",
    "\n",
    "# Get feature names from ColumnTransformer\n",
    "one_hot_feature_names = transformer.named_transformers_[\"one_hot\"].get_feature_names_out(categorical_features).tolist()\n",
    "all_feature_names = one_hot_feature_names + numeric_features\n",
    "\n",
    "# Ensure the length matches the model's feature importances\n",
    "feature_importances = model.feature_importances_\n",
    "if len(all_feature_names) != len(feature_importances):\n",
    "    min_length = min(len(all_feature_names), len(feature_importances))\n",
    "    all_feature_names = all_feature_names[:min_length]\n",
    "    feature_importances = feature_importances[:min_length]\n",
    "\n",
    "# Create DataFrame for visualization\n",
    "importance_df = pd.DataFrame({\"Feature\": all_feature_names, \"Importance\": feature_importances})\n",
    "importance_df = importance_df.sort_values(by=\"Importance\", ascending=False).head(10)  # Select top 10\n",
    "\n",
    "# Plot Feature Importance\n",
    "plt.figure(figsize=(10, 5))\n",
    "sns.barplot(y=importance_df[\"Feature\"], x=importance_df[\"Importance\"], palette=\"magma\")\n",
    "plt.xlabel(\"Feature Importance\")\n",
    "plt.ylabel(\"Features\")\n",
    "plt.title(\"Top 10 Important Features (Random Forest)\")\n",
    "plt.show()\n"
   ]
  },
  {
   "cell_type": "code",
   "execution_count": null,
   "id": "8bf7d658-47ff-44f0-910b-0c33a309849f",
   "metadata": {},
   "outputs": [],
   "source": []
  }
 ],
 "metadata": {
  "kernelspec": {
   "display_name": "Python 3 (ipykernel)",
   "language": "python",
   "name": "python3"
  },
  "language_info": {
   "codemirror_mode": {
    "name": "ipython",
    "version": 3
   },
   "file_extension": ".py",
   "mimetype": "text/x-python",
   "name": "python",
   "nbconvert_exporter": "python",
   "pygments_lexer": "ipython3",
   "version": "3.11.7"
  }
 },
 "nbformat": 4,
 "nbformat_minor": 5
}
